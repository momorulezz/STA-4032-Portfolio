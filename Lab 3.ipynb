{
  "nbformat": 4,
  "nbformat_minor": 0,
  "metadata": {
    "colab": {
      "provenance": [],
      "include_colab_link": true
    },
    "kernelspec": {
      "name": "python3",
      "display_name": "Python 3"
    },
    "language_info": {
      "name": "python"
    }
  },
  "cells": [
    {
      "cell_type": "markdown",
      "metadata": {
        "id": "view-in-github",
        "colab_type": "text"
      },
      "source": [
        "<a href=\"https://colab.research.google.com/github/momorulezz/STA-4032-Portfolio/blob/main/Lab%203.ipynb\" target=\"_parent\"><img src=\"https://colab.research.google.com/assets/colab-badge.svg\" alt=\"Open In Colab\"/></a>"
      ]
    },
    {
      "cell_type": "code",
      "execution_count": 2,
      "metadata": {
        "id": "mBTZa3LbmlCv"
      },
      "outputs": [],
      "source": [
        "import numpy as np\n",
        "import matplotlib.pyplot as plt"
      ]
    },
    {
      "cell_type": "markdown",
      "source": [
        "# Normal Random Number Generator"
      ],
      "metadata": {
        "id": "CwVhNQGvExWz"
      }
    },
    {
      "cell_type": "code",
      "metadata": {
        "id": "FQQe5WEEbw_0"
      },
      "source": [
        "#CDF PDF"
      ],
      "execution_count": 1,
      "outputs": []
    },
    {
      "cell_type": "code",
      "source": [
        "#1000 evenely generated values from -10 to 10\n",
        "x = np.linspace(-10,10,1000)\n",
        "y = 2.71**(-x**2)\n",
        "plt.plot(x,y)"
      ],
      "metadata": {
        "colab": {
          "base_uri": "https://localhost:8080/",
          "height": 447
        },
        "id": "oCyzB_zEqcSE",
        "outputId": "cd993ae8-1435-4a4b-829c-84b2fb3fc2d2"
      },
      "execution_count": 3,
      "outputs": [
        {
          "output_type": "execute_result",
          "data": {
            "text/plain": [
              "[<matplotlib.lines.Line2D at 0x7e31c925ea40>]"
            ]
          },
          "metadata": {},
          "execution_count": 3
        },
        {
          "output_type": "display_data",
          "data": {
            "text/plain": [
              "<Figure size 640x480 with 1 Axes>"
            ],
            "image/png": "[encoded data removed]"
          },
          "metadata": {}
        }
      ]
    },
    {
      "cell_type": "markdown",
      "source": [
        "$e^{-x^2}$"
      ],
      "metadata": {
        "id": "UjleGPmUqdX0"
      }
    },
    {
      "cell_type": "markdown",
      "metadata": {
        "id": "yJ59vSNn1LEU"
      },
      "source": [
        "![alt text](https://wikimedia.org/api/rest_v1/media/math/render/svg/4abaca87a10ecfa77b5a205056523706fe6c9c3f)"
      ]
    },
    {
      "cell_type": "code",
      "metadata": {
        "id": "iyMyj1cd1LEV"
      },
      "source": [
        "def normal_pdf(x,mu,sigma):\n",
        "\n",
        "  return (1/(np.sqrt(2*np.pi*sigma**2)))*np.exp((-(x-mu)**2)/(2*sigma**2))"
      ],
      "execution_count": 4,
      "outputs": []
    },
    {
      "cell_type": "code",
      "metadata": {
        "id": "CzBfKnfL1LEX"
      },
      "source": [
        "x = np.linspace(-6,6,1000)"
      ],
      "execution_count": 5,
      "outputs": []
    },
    {
      "cell_type": "code",
      "source": [
        "x"
      ],
      "metadata": {
        "colab": {
          "base_uri": "https://localhost:8080/"
        },
        "id": "4tfm5wC_lndU",
        "outputId": "f9b233ac-5ae1-4c93-9e7f-bc89633f492a"
      },
      "execution_count": 6,
      "outputs": [
        {
          "output_type": "execute_result",
          "data": {
            "text/plain": [
              "array([-6.        , -5.98798799, -5.97597598, -5.96396396, -5.95195195,\n",
              "       -5.93993994, -5.92792793, -5.91591592, -5.9039039 , -5.89189189,\n",
              "       -5.87987988, -5.86786787, -5.85585586, -5.84384384, -5.83183183,\n",
              "       -5.81981982, -5.80780781, -5.7957958 , -5.78378378, -5.77177177,\n",
              "       -5.75975976, -5.74774775, -5.73573574, -5.72372372, -5.71171171,\n",
              "       -5.6996997 , -5.68768769, -5.67567568, -5.66366366, -5.65165165,\n",
              "       -5.63963964, -5.62762763, -5.61561562, -5.6036036 , -5.59159159,\n",
              "       -5.57957958, -5.56756757, -5.55555556, -5.54354354, -5.53153153,\n",
              "       -5.51951952, -5.50750751, -5.4954955 , -5.48348348, -5.47147147,\n",
              "       -5.45945946, -5.44744745, -5.43543544, -5.42342342, -5.41141141,\n",
              "       -5.3993994 , -5.38738739, -5.37537538, -5.36336336, -5.35135135,\n",
              "       -5.33933934, -5.32732733, -5.31531532, -5.3033033 , -5.29129129,\n",
              "       -5.27927928, -5.26726727, -5.25525526, -5.24324324, -5.23123123,\n",
              "       -5.21921922, -5.20720721, -5.1951952 , -5.18318318, -5.17117117,\n",
              "       -5.15915916, -5.14714715, -5.13513514, -5.12312312, -5.11111111,\n",
              "       -5.0990991 , -5.08708709, -5.07507508, -5.06306306, -5.05105105,\n",
              "       -5.03903904, -5.02702703, -5.01501502, -5.003003  , -4.99099099,\n",
              "       -4.97897898, -4.96696697, -4.95495495, -4.94294294, -4.93093093,\n",
              "       -4.91891892, -4.90690691, -4.89489489, -4.88288288, -4.87087087,\n",
              "       -4.85885886, -4.84684685, -4.83483483, -4.82282282, -4.81081081,\n",
              "       -4.7987988 , -4.78678679, -4.77477477, -4.76276276, -4.75075075,\n",
              "       -4.73873874, -4.72672673, -4.71471471, -4.7027027 , -4.69069069,\n",
              "       -4.67867868, -4.66666667, -4.65465465, -4.64264264, -4.63063063,\n",
              "       -4.61861862, -4.60660661, -4.59459459, -4.58258258, -4.57057057,\n",
              "       -4.55855856, -4.54654655, -4.53453453, -4.52252252, -4.51051051,\n",
              "       -4.4984985 , -4.48648649, -4.47447447, -4.46246246, -4.45045045,\n",
              "       -4.43843844, -4.42642643, -4.41441441, -4.4024024 , -4.39039039,\n",
              "       -4.37837838, -4.36636637, -4.35435435, -4.34234234, -4.33033033,\n",
              "       -4.31831832, -4.30630631, -4.29429429, -4.28228228, -4.27027027,\n",
              "       -4.25825826, -4.24624625, -4.23423423, -4.22222222, -4.21021021,\n",
              "       -4.1981982 , -4.18618619, -4.17417417, -4.16216216, -4.15015015,\n",
              "       -4.13813814, -4.12612613, -4.11411411, -4.1021021 , -4.09009009,\n",
              "       -4.07807808, -4.06606607, -4.05405405, -4.04204204, -4.03003003,\n",
              "       -4.01801802, -4.00600601, -3.99399399, -3.98198198, -3.96996997,\n",
              "       -3.95795796, -3.94594595, -3.93393393, -3.92192192, -3.90990991,\n",
              "       -3.8978979 , -3.88588589, -3.87387387, -3.86186186, -3.84984985,\n",
              "       -3.83783784, -3.82582583, -3.81381381, -3.8018018 , -3.78978979,\n",
              "       -3.77777778, -3.76576577, -3.75375375, -3.74174174, -3.72972973,\n",
              "       -3.71771772, -3.70570571, -3.69369369, -3.68168168, -3.66966967,\n",
              "       -3.65765766, -3.64564565, -3.63363363, -3.62162162, -3.60960961,\n",
              "       -3.5975976 , -3.58558559, -3.57357357, -3.56156156, -3.54954955,\n",
              "       -3.53753754, -3.52552553, -3.51351351, -3.5015015 , -3.48948949,\n",
              "       -3.47747748, -3.46546547, -3.45345345, -3.44144144, -3.42942943,\n",
              "       -3.41741742, -3.40540541, -3.39339339, -3.38138138, -3.36936937,\n",
              "       -3.35735736, -3.34534535, -3.33333333, -3.32132132, -3.30930931,\n",
              "       -3.2972973 , -3.28528529, -3.27327327, -3.26126126, -3.24924925,\n",
              "       -3.23723724, -3.22522523, -3.21321321, -3.2012012 , -3.18918919,\n",
              "       -3.17717718, -3.16516517, -3.15315315, -3.14114114, -3.12912913,\n",
              "       -3.11711712, -3.10510511, -3.09309309, -3.08108108, -3.06906907,\n",
              "       -3.05705706, -3.04504505, -3.03303303, -3.02102102, -3.00900901,\n",
              "       -2.996997  , -2.98498498, -2.97297297, -2.96096096, -2.94894895,\n",
              "       -2.93693694, -2.92492492, -2.91291291, -2.9009009 , -2.88888889,\n",
              "       -2.87687688, -2.86486486, -2.85285285, -2.84084084, -2.82882883,\n",
              "       -2.81681682, -2.8048048 , -2.79279279, -2.78078078, -2.76876877,\n",
              "       -2.75675676, -2.74474474, -2.73273273, -2.72072072, -2.70870871,\n",
              "       -2.6966967 , -2.68468468, -2.67267267, -2.66066066, -2.64864865,\n",
              "       -2.63663664, -2.62462462, -2.61261261, -2.6006006 , -2.58858859,\n",
              "       -2.57657658, -2.56456456, -2.55255255, -2.54054054, -2.52852853,\n",
              "       -2.51651652, -2.5045045 , -2.49249249, -2.48048048, -2.46846847,\n",
              "       -2.45645646, -2.44444444, -2.43243243, -2.42042042, -2.40840841,\n",
              "       -2.3963964 , -2.38438438, -2.37237237, -2.36036036, -2.34834835,\n",
              "       -2.33633634, -2.32432432, -2.31231231, -2.3003003 , -2.28828829,\n",
              "       -2.27627628, -2.26426426, -2.25225225, -2.24024024, -2.22822823,\n",
              "       -2.21621622, -2.2042042 , -2.19219219, -2.18018018, -2.16816817,\n",
              "       -2.15615616, -2.14414414, -2.13213213, -2.12012012, -2.10810811,\n",
              "       -2.0960961 , -2.08408408, -2.07207207, -2.06006006, -2.04804805,\n",
              "       -2.03603604, -2.02402402, -2.01201201, -2.        , -1.98798799,\n",
              "       -1.97597598, -1.96396396, -1.95195195, -1.93993994, -1.92792793,\n",
              "       -1.91591592, -1.9039039 , -1.89189189, -1.87987988, -1.86786787,\n",
              "       -1.85585586, -1.84384384, -1.83183183, -1.81981982, -1.80780781,\n",
              "       -1.7957958 , -1.78378378, -1.77177177, -1.75975976, -1.74774775,\n",
              "       -1.73573574, -1.72372372, -1.71171171, -1.6996997 , -1.68768769,\n",
              "       -1.67567568, -1.66366366, -1.65165165, -1.63963964, -1.62762763,\n",
              "       -1.61561562, -1.6036036 , -1.59159159, -1.57957958, -1.56756757,\n",
              "       -1.55555556, -1.54354354, -1.53153153, -1.51951952, -1.50750751,\n",
              "       -1.4954955 , -1.48348348, -1.47147147, -1.45945946, -1.44744745,\n",
              "       -1.43543544, -1.42342342, -1.41141141, -1.3993994 , -1.38738739,\n",
              "       -1.37537538, -1.36336336, -1.35135135, -1.33933934, -1.32732733,\n",
              "       -1.31531532, -1.3033033 , -1.29129129, -1.27927928, -1.26726727,\n",
              "       -1.25525526, -1.24324324, -1.23123123, -1.21921922, -1.20720721,\n",
              "       -1.1951952 , -1.18318318, -1.17117117, -1.15915916, -1.14714715,\n",
              "       -1.13513514, -1.12312312, -1.11111111, -1.0990991 , -1.08708709,\n",
              "       -1.07507508, -1.06306306, -1.05105105, -1.03903904, -1.02702703,\n",
              "       -1.01501502, -1.003003  , -0.99099099, -0.97897898, -0.96696697,\n",
              "       -0.95495495, -0.94294294, -0.93093093, -0.91891892, -0.90690691,\n",
              "       -0.89489489, -0.88288288, -0.87087087, -0.85885886, -0.84684685,\n",
              "       -0.83483483, -0.82282282, -0.81081081, -0.7987988 , -0.78678679,\n",
              "       -0.77477477, -0.76276276, -0.75075075, -0.73873874, -0.72672673,\n",
              "       -0.71471471, -0.7027027 , -0.69069069, -0.67867868, -0.66666667,\n",
              "       -0.65465465, -0.64264264, -0.63063063, -0.61861862, -0.60660661,\n",
              "       -0.59459459, -0.58258258, -0.57057057, -0.55855856, -0.54654655,\n",
              "       -0.53453453, -0.52252252, -0.51051051, -0.4984985 , -0.48648649,\n",
              "       -0.47447447, -0.46246246, -0.45045045, -0.43843844, -0.42642643,\n",
              "       -0.41441441, -0.4024024 , -0.39039039, -0.37837838, -0.36636637,\n",
              "       -0.35435435, -0.34234234, -0.33033033, -0.31831832, -0.30630631,\n",
              "       -0.29429429, -0.28228228, -0.27027027, -0.25825826, -0.24624625,\n",
              "       -0.23423423, -0.22222222, -0.21021021, -0.1981982 , -0.18618619,\n",
              "       -0.17417417, -0.16216216, -0.15015015, -0.13813814, -0.12612613,\n",
              "       -0.11411411, -0.1021021 , -0.09009009, -0.07807808, -0.06606607,\n",
              "       -0.05405405, -0.04204204, -0.03003003, -0.01801802, -0.00600601,\n",
              "        0.00600601,  0.01801802,  0.03003003,  0.04204204,  0.05405405,\n",
              "        0.06606607,  0.07807808,  0.09009009,  0.1021021 ,  0.11411411,\n",
              "        0.12612613,  0.13813814,  0.15015015,  0.16216216,  0.17417417,\n",
              "        0.18618619,  0.1981982 ,  0.21021021,  0.22222222,  0.23423423,\n",
              "        0.24624625,  0.25825826,  0.27027027,  0.28228228,  0.29429429,\n",
              "        0.30630631,  0.31831832,  0.33033033,  0.34234234,  0.35435435,\n",
              "        0.36636637,  0.37837838,  0.39039039,  0.4024024 ,  0.41441441,\n",
              "        0.42642643,  0.43843844,  0.45045045,  0.46246246,  0.47447447,\n",
              "        0.48648649,  0.4984985 ,  0.51051051,  0.52252252,  0.53453453,\n",
              "        0.54654655,  0.55855856,  0.57057057,  0.58258258,  0.59459459,\n",
              "        0.60660661,  0.61861862,  0.63063063,  0.64264264,  0.65465465,\n",
              "        0.66666667,  0.67867868,  0.69069069,  0.7027027 ,  0.71471471,\n",
              "        0.72672673,  0.73873874,  0.75075075,  0.76276276,  0.77477477,\n",
              "        0.78678679,  0.7987988 ,  0.81081081,  0.82282282,  0.83483483,\n",
              "        0.84684685,  0.85885886,  0.87087087,  0.88288288,  0.89489489,\n",
              "        0.90690691,  0.91891892,  0.93093093,  0.94294294,  0.95495495,\n",
              "        0.96696697,  0.97897898,  0.99099099,  1.003003  ,  1.01501502,\n",
              "        1.02702703,  1.03903904,  1.05105105,  1.06306306,  1.07507508,\n",
              "        1.08708709,  1.0990991 ,  1.11111111,  1.12312312,  1.13513514,\n",
              "        1.14714715,  1.15915916,  1.17117117,  1.18318318,  1.1951952 ,\n",
              "        1.20720721,  1.21921922,  1.23123123,  1.24324324,  1.25525526,\n",
              "        1.26726727,  1.27927928,  1.29129129,  1.3033033 ,  1.31531532,\n",
              "        1.32732733,  1.33933934,  1.35135135,  1.36336336,  1.37537538,\n",
              "        1.38738739,  1.3993994 ,  1.41141141,  1.42342342,  1.43543544,\n",
              "        1.44744745,  1.45945946,  1.47147147,  1.48348348,  1.4954955 ,\n",
              "        1.50750751,  1.51951952,  1.53153153,  1.54354354,  1.55555556,\n",
              "        1.56756757,  1.57957958,  1.59159159,  1.6036036 ,  1.61561562,\n",
              "        1.62762763,  1.63963964,  1.65165165,  1.66366366,  1.67567568,\n",
              "        1.68768769,  1.6996997 ,  1.71171171,  1.72372372,  1.73573574,\n",
              "        1.74774775,  1.75975976,  1.77177177,  1.78378378,  1.7957958 ,\n",
              "        1.80780781,  1.81981982,  1.83183183,  1.84384384,  1.85585586,\n",
              "        1.86786787,  1.87987988,  1.89189189,  1.9039039 ,  1.91591592,\n",
              "        1.92792793,  1.93993994,  1.95195195,  1.96396396,  1.97597598,\n",
              "        1.98798799,  2.        ,  2.01201201,  2.02402402,  2.03603604,\n",
              "        2.04804805,  2.06006006,  2.07207207,  2.08408408,  2.0960961 ,\n",
              "        2.10810811,  2.12012012,  2.13213213,  2.14414414,  2.15615616,\n",
              "        2.16816817,  2.18018018,  2.19219219,  2.2042042 ,  2.21621622,\n",
              "        2.22822823,  2.24024024,  2.25225225,  2.26426426,  2.27627628,\n",
              "        2.28828829,  2.3003003 ,  2.31231231,  2.32432432,  2.33633634,\n",
              "        2.34834835,  2.36036036,  2.37237237,  2.38438438,  2.3963964 ,\n",
              "        2.40840841,  2.42042042,  2.43243243,  2.44444444,  2.45645646,\n",
              "        2.46846847,  2.48048048,  2.49249249,  2.5045045 ,  2.51651652,\n",
              "        2.52852853,  2.54054054,  2.55255255,  2.56456456,  2.57657658,\n",
              "        2.58858859,  2.6006006 ,  2.61261261,  2.62462462,  2.63663664,\n",
              "        2.64864865,  2.66066066,  2.67267267,  2.68468468,  2.6966967 ,\n",
              "        2.70870871,  2.72072072,  2.73273273,  2.74474474,  2.75675676,\n",
              "        2.76876877,  2.78078078,  2.79279279,  2.8048048 ,  2.81681682,\n",
              "        2.82882883,  2.84084084,  2.85285285,  2.86486486,  2.87687688,\n",
              "        2.88888889,  2.9009009 ,  2.91291291,  2.92492492,  2.93693694,\n",
              "        2.94894895,  2.96096096,  2.97297297,  2.98498498,  2.996997  ,\n",
              "        3.00900901,  3.02102102,  3.03303303,  3.04504505,  3.05705706,\n",
              "        3.06906907,  3.08108108,  3.09309309,  3.10510511,  3.11711712,\n",
              "        3.12912913,  3.14114114,  3.15315315,  3.16516517,  3.17717718,\n",
              "        3.18918919,  3.2012012 ,  3.21321321,  3.22522523,  3.23723724,\n",
              "        3.24924925,  3.26126126,  3.27327327,  3.28528529,  3.2972973 ,\n",
              "        3.30930931,  3.32132132,  3.33333333,  3.34534535,  3.35735736,\n",
              "        3.36936937,  3.38138138,  3.39339339,  3.40540541,  3.41741742,\n",
              "        3.42942943,  3.44144144,  3.45345345,  3.46546547,  3.47747748,\n",
              "        3.48948949,  3.5015015 ,  3.51351351,  3.52552553,  3.53753754,\n",
              "        3.54954955,  3.56156156,  3.57357357,  3.58558559,  3.5975976 ,\n",
              "        3.60960961,  3.62162162,  3.63363363,  3.64564565,  3.65765766,\n",
              "        3.66966967,  3.68168168,  3.69369369,  3.70570571,  3.71771772,\n",
              "        3.72972973,  3.74174174,  3.75375375,  3.76576577,  3.77777778,\n",
              "        3.78978979,  3.8018018 ,  3.81381381,  3.82582583,  3.83783784,\n",
              "        3.84984985,  3.86186186,  3.87387387,  3.88588589,  3.8978979 ,\n",
              "        3.90990991,  3.92192192,  3.93393393,  3.94594595,  3.95795796,\n",
              "        3.96996997,  3.98198198,  3.99399399,  4.00600601,  4.01801802,\n",
              "        4.03003003,  4.04204204,  4.05405405,  4.06606607,  4.07807808,\n",
              "        4.09009009,  4.1021021 ,  4.11411411,  4.12612613,  4.13813814,\n",
              "        4.15015015,  4.16216216,  4.17417417,  4.18618619,  4.1981982 ,\n",
              "        4.21021021,  4.22222222,  4.23423423,  4.24624625,  4.25825826,\n",
              "        4.27027027,  4.28228228,  4.29429429,  4.30630631,  4.31831832,\n",
              "        4.33033033,  4.34234234,  4.35435435,  4.36636637,  4.37837838,\n",
              "        4.39039039,  4.4024024 ,  4.41441441,  4.42642643,  4.43843844,\n",
              "        4.45045045,  4.46246246,  4.47447447,  4.48648649,  4.4984985 ,\n",
              "        4.51051051,  4.52252252,  4.53453453,  4.54654655,  4.55855856,\n",
              "        4.57057057,  4.58258258,  4.59459459,  4.60660661,  4.61861862,\n",
              "        4.63063063,  4.64264264,  4.65465465,  4.66666667,  4.67867868,\n",
              "        4.69069069,  4.7027027 ,  4.71471471,  4.72672673,  4.73873874,\n",
              "        4.75075075,  4.76276276,  4.77477477,  4.78678679,  4.7987988 ,\n",
              "        4.81081081,  4.82282282,  4.83483483,  4.84684685,  4.85885886,\n",
              "        4.87087087,  4.88288288,  4.89489489,  4.90690691,  4.91891892,\n",
              "        4.93093093,  4.94294294,  4.95495495,  4.96696697,  4.97897898,\n",
              "        4.99099099,  5.003003  ,  5.01501502,  5.02702703,  5.03903904,\n",
              "        5.05105105,  5.06306306,  5.07507508,  5.08708709,  5.0990991 ,\n",
              "        5.11111111,  5.12312312,  5.13513514,  5.14714715,  5.15915916,\n",
              "        5.17117117,  5.18318318,  5.1951952 ,  5.20720721,  5.21921922,\n",
              "        5.23123123,  5.24324324,  5.25525526,  5.26726727,  5.27927928,\n",
              "        5.29129129,  5.3033033 ,  5.31531532,  5.32732733,  5.33933934,\n",
              "        5.35135135,  5.36336336,  5.37537538,  5.38738739,  5.3993994 ,\n",
              "        5.41141141,  5.42342342,  5.43543544,  5.44744745,  5.45945946,\n",
              "        5.47147147,  5.48348348,  5.4954955 ,  5.50750751,  5.51951952,\n",
              "        5.53153153,  5.54354354,  5.55555556,  5.56756757,  5.57957958,\n",
              "        5.59159159,  5.6036036 ,  5.61561562,  5.62762763,  5.63963964,\n",
              "        5.65165165,  5.66366366,  5.67567568,  5.68768769,  5.6996997 ,\n",
              "        5.71171171,  5.72372372,  5.73573574,  5.74774775,  5.75975976,\n",
              "        5.77177177,  5.78378378,  5.7957958 ,  5.80780781,  5.81981982,\n",
              "        5.83183183,  5.84384384,  5.85585586,  5.86786787,  5.87987988,\n",
              "        5.89189189,  5.9039039 ,  5.91591592,  5.92792793,  5.93993994,\n",
              "        5.95195195,  5.96396396,  5.97597598,  5.98798799,  6.        ])"
            ]
          },
          "metadata": {},
          "execution_count": 6
        }
      ]
    },
    {
      "cell_type": "code",
      "metadata": {
        "id": "s407zu5G1LEY"
      },
      "source": [
        "mu = 0"
      ],
      "execution_count": 7,
      "outputs": []
    },
    {
      "cell_type": "code",
      "metadata": {
        "id": "VJunvHrJ1LEb"
      },
      "source": [
        "sigma = 1"
      ],
      "execution_count": 8,
      "outputs": []
    },
    {
      "cell_type": "code",
      "metadata": {
        "id": "xGi4RlmT1LEe"
      },
      "source": [
        "#PDF=Probaility Density Function\n",
        "pdf = normal_pdf(x,mu,sigma)"
      ],
      "execution_count": 12,
      "outputs": []
    },
    {
      "cell_type": "code",
      "metadata": {
        "outputId": "eb9ed7d1-da3b-4798-8ad2-ee187b7f5f05",
        "id": "N674Q86J1LEh",
        "colab": {
          "base_uri": "https://localhost:8080/",
          "height": 447
        }
      },
      "source": [
        "plt.plot(x,pdf,'.')\n",
        "# plt.plot(x,y,'g.')"
      ],
      "execution_count": 13,
      "outputs": [
        {
          "output_type": "execute_result",
          "data": {
            "text/plain": [
              "[<matplotlib.lines.Line2D at 0x7e31b9fb8af0>]"
            ]
          },
          "metadata": {},
          "execution_count": 13
        },
        {
          "output_type": "display_data",
          "data": {
            "text/plain": [
              "<Figure size 640x480 with 1 Axes>"
            ],
            "image/png": "[encoded data removed]"
          },
          "metadata": {}
        }
      ]
    },
    {
      "cell_type": "code",
      "source": [
        "n= 5\n",
        "#we are slicing an array; starts from index 0 up to index n\n",
        "x[0:n]\n",
        "#calculates sum of the values that were up to index n\n",
        "np.sum(x[0:n])"
      ],
      "metadata": {
        "colab": {
          "base_uri": "https://localhost:8080/"
        },
        "id": "7YAhYcnbl6JU",
        "outputId": "2b7b031e-1104-426b-b5dd-752a6b930c5b"
      },
      "execution_count": 15,
      "outputs": [
        {
          "output_type": "execute_result",
          "data": {
            "text/plain": [
              "-29.879879879879876"
            ]
          },
          "metadata": {},
          "execution_count": 15
        }
      ]
    },
    {
      "cell_type": "code",
      "metadata": {
        "id": "yDZg1FK41wtf"
      },
      "source": [
        "def cumulative_sum(x):\n",
        "#np.zerso intializes an array y with same shape as x but fills it with zeros. It is intended to store cumulative sums.\n",
        "  y = np.zeros(x.shape)\n",
        "#x.shape[0] refers to size of first dimension of array 'x'\n",
        "  for n in range(x.shape[0]):\n",
        "#calculates sum\n",
        "    y[n] = np.sum(x[0:n])\n",
        "\n",
        "#   y = y / np.max(y)\n",
        "\n",
        "  return y"
      ],
      "execution_count": 25,
      "outputs": []
    },
    {
      "cell_type": "code",
      "source": [
        "z = np.array([1,2,3,4,5])"
      ],
      "metadata": {
        "id": "LMUN0-a1m7Gn"
      },
      "execution_count": 26,
      "outputs": []
    },
    {
      "cell_type": "code",
      "source": [
        "z"
      ],
      "metadata": {
        "colab": {
          "base_uri": "https://localhost:8080/"
        },
        "id": "fXFYDMh9nCT3",
        "outputId": "f34d58f0-93e3-4b83-8c74-b9995c5e090b"
      },
      "execution_count": 27,
      "outputs": [
        {
          "output_type": "execute_result",
          "data": {
            "text/plain": [
              "array([1, 2, 3, 4, 5])"
            ]
          },
          "metadata": {},
          "execution_count": 27
        }
      ]
    },
    {
      "cell_type": "code",
      "source": [
        "cumulative_sum(z)"
      ],
      "metadata": {
        "colab": {
          "base_uri": "https://localhost:8080/"
        },
        "id": "PibrAMwhnDz3",
        "outputId": "7d8fd386-f25e-47b4-e7ca-33ce1721dc2e"
      },
      "execution_count": 31,
      "outputs": [
        {
          "output_type": "execute_result",
          "data": {
            "text/plain": [
              "array([ 0.,  1.,  3.,  6., 10.])"
            ]
          },
          "metadata": {},
          "execution_count": 31
        }
      ]
    },
    {
      "cell_type": "code",
      "metadata": {
        "id": "merifRSe3vT1"
      },
      "source": [
        "#CDF=Cumulative Distribution Function\n",
        "cdf = cumulative_sum(pdf)"
      ],
      "execution_count": 44,
      "outputs": []
    },
    {
      "cell_type": "code",
      "source": [
        "cdf"
      ],
      "metadata": {
        "colab": {
          "base_uri": "https://localhost:8080/"
        },
        "id": "oujyIGRif4Oi",
        "outputId": "9e9663d9-373e-4272-81fe-331085109f9c"
      },
      "execution_count": 45,
      "outputs": [
        {
          "output_type": "execute_result",
          "data": {
            "text/plain": [
              "array([0.00000000e+00, 6.07588285e-09, 1.26053624e-08, 1.96212895e-08,\n",
              "       2.71588171e-08, 3.52555552e-08, 4.39517371e-08, 5.32903949e-08,\n",
              "       6.33175482e-08, 7.40824031e-08, 8.56375652e-08, 9.80392657e-08,\n",
              "       1.11347602e-07, 1.25626795e-07, 1.40945457e-07, 1.57376889e-07,\n",
              "       1.74999379e-07, 1.93896537e-07, 2.14157638e-07, 2.35877994e-07,\n",
              "       2.59159344e-07, 2.84110273e-07, 3.10846654e-07, 3.39492117e-07,\n",
              "       3.70178551e-07, 4.03046631e-07, 4.38246381e-07, 4.75937771e-07,\n",
              "       5.16291351e-07, 5.59488921e-07, 6.05724246e-07, 6.55203807e-07,\n",
              "       7.08147605e-07, 7.64790012e-07, 8.25380664e-07, 8.90185423e-07,\n",
              "       9.59487381e-07, 1.03358793e-06, 1.11280791e-06, 1.19748879e-06,\n",
              "       1.28799394e-06, 1.38471000e-06, 1.48804827e-06, 1.59844626e-06,\n",
              "       1.71636925e-06, 1.84231198e-06, 1.97680045e-06, 2.12039382e-06,\n",
              "       2.27368636e-06, 2.43730960e-06, 2.61193456e-06, 2.79827408e-06,\n",
              "       2.99708532e-06, 3.20917243e-06, 3.43538928e-06, 3.67664239e-06,\n",
              "       3.93389410e-06, 4.20816576e-06, 4.50054124e-06, 4.81217054e-06,\n",
              "       5.14427366e-06, 5.49814467e-06, 5.87515593e-06, 6.27676270e-06,\n",
              "       6.70450779e-06, 7.16002669e-06, 7.64505278e-06, 8.16142293e-06,\n",
              "       8.71108339e-06, 9.29609597e-06, 9.91864455e-06, 1.05810420e-05,\n",
              "       1.12857372e-05, 1.20353231e-05, 1.28325441e-05, 1.36803053e-05,\n",
              "       1.45816804e-05, 1.55399218e-05, 1.65584703e-05, 1.76409649e-05,\n",
              "       1.87912544e-05, 2.00134084e-05, 2.13117291e-05, 2.26907644e-05,\n",
              "       2.41553209e-05, 2.57104779e-05, 2.73616018e-05, 2.91143616e-05,\n",
              "       3.09747453e-05, 3.29490762e-05, 3.50440312e-05, 3.72666594e-05,\n",
              "       3.96244013e-05, 4.21251096e-05, 4.47770707e-05, 4.75890272e-05,\n",
              "       5.05702016e-05, 5.37303211e-05, 5.70796436e-05, 6.06289849e-05,\n",
              "       6.43897472e-05, 6.83739493e-05, 7.25942575e-05, 7.70640186e-05,\n",
              "       8.17972941e-05, 8.68088963e-05, 9.21144260e-05, 9.77303113e-05,\n",
              "       1.03673849e-04, 1.09963249e-04, 1.16617677e-04, 1.23657302e-04,\n",
              "       1.31103348e-04, 1.38978142e-04, 1.47305171e-04, 1.56109134e-04,\n",
              "       1.65416006e-04, 1.75253095e-04, 1.85649107e-04, 1.96634214e-04,\n",
              "       2.08240123e-04, 2.20500148e-04, 2.33449287e-04, 2.47124300e-04,\n",
              "       2.61563793e-04, 2.76808304e-04, 2.92900391e-04, 3.09884727e-04,\n",
              "       3.27808199e-04, 3.46720005e-04, 3.66671766e-04, 3.87717632e-04,\n",
              "       4.09914397e-04, 4.33321622e-04, 4.58001754e-04, 4.84020263e-04,\n",
              "       5.11445767e-04, 5.40350184e-04, 5.70808867e-04, 6.02900762e-04,\n",
              "       6.36708565e-04, 6.72318885e-04, 7.09822413e-04, 7.49314104e-04,\n",
              "       7.90893354e-04, 8.34664198e-04, 8.80735504e-04, 9.29221181e-04,\n",
              "       9.80240392e-04, 1.03391778e-03, 1.09038368e-03, 1.14977440e-03,\n",
              "       1.21223242e-03, 1.27790668e-03, 1.34695282e-03, 1.41953351e-03,\n",
              "       1.49581867e-03, 1.57598580e-03, 1.66022030e-03, 1.74871576e-03,\n",
              "       1.84167429e-03, 1.93930691e-03, 2.04183383e-03, 2.14948487e-03,\n",
              "       2.26249982e-03, 2.38112882e-03, 2.50563280e-03, 2.63628384e-03,\n",
              "       2.77336566e-03, 2.91717405e-03, 3.06801730e-03, 3.22621673e-03,\n",
              "       3.39210713e-03, 3.56603730e-03, 3.74837059e-03, 3.93948538e-03,\n",
              "       4.13977572e-03, 4.34965185e-03, 4.56954079e-03, 4.79988702e-03,\n",
              "       5.04115303e-03, 5.29382002e-03, 5.55838857e-03, 5.83537933e-03,\n",
              "       6.12533369e-03, 6.42881460e-03, 6.74640724e-03, 7.07871985e-03,\n",
              "       7.42638451e-03, 7.79005798e-03, 8.17042251e-03, 8.56818677e-03,\n",
              "       8.98408668e-03, 9.41888639e-03, 9.87337916e-03, 1.03483884e-02,\n",
              "       1.08447687e-02, 1.13634066e-02, 1.19052219e-02, 1.24711689e-02,\n",
              "       1.30622371e-02, 1.36794523e-02, 1.43238783e-02, 1.49966177e-02,\n",
              "       1.56988130e-02, 1.64316483e-02, 1.71963503e-02, 1.79941893e-02,\n",
              "       1.88264814e-02, 1.96945890e-02, 2.05999227e-02, 2.15439425e-02,\n",
              "       2.25281597e-02, 2.35541378e-02, 2.46234944e-02, 2.57379027e-02,\n",
              "       2.68990933e-02, 2.81088554e-02, 2.93690390e-02, 3.06815561e-02,\n",
              "       3.20483827e-02, 3.34715609e-02, 3.49532001e-02, 3.64954791e-02,\n",
              "       3.81006481e-02, 3.97710307e-02, 4.15090255e-02, 4.33171083e-02,\n",
              "       4.51978341e-02, 4.71538393e-02, 4.91878436e-02, 5.13026521e-02,\n",
              "       5.35011578e-02, 5.57863432e-02, 5.81612832e-02, 6.06291470e-02,\n",
              "       6.31932003e-02, 6.58568080e-02, 6.86234363e-02, 7.14966550e-02,\n",
              "       7.44801403e-02, 7.75776770e-02, 8.07931610e-02, 8.41306019e-02,\n",
              "       8.75941254e-02, 9.11879762e-02, 9.49165202e-02, 9.87842476e-02,\n",
              "       1.02795775e-01, 1.06955848e-01, 1.11269346e-01, 1.15741281e-01,\n",
              "       1.20376805e-01, 1.25181207e-01, 1.30159922e-01, 1.35318530e-01,\n",
              "       1.40662760e-01, 1.46198492e-01, 1.51931761e-01, 1.57868760e-01,\n",
              "       1.64015840e-01, 1.70379518e-01, 1.76966474e-01, 1.83783560e-01,\n",
              "       1.90837797e-01, 1.98136382e-01, 2.05686689e-01, 2.13496273e-01,\n",
              "       2.21572873e-01, 2.29924412e-01, 2.38559005e-01, 2.47484955e-01,\n",
              "       2.56710764e-01, 2.66245130e-01, 2.76096949e-01, 2.86275323e-01,\n",
              "       2.96789560e-01, 3.07649174e-01, 3.18863894e-01, 3.30443658e-01,\n",
              "       3.42398626e-01, 3.54739174e-01, 3.67475898e-01, 3.80619623e-01,\n",
              "       3.94181395e-01, 4.08172494e-01, 4.22604427e-01, 4.37488936e-01,\n",
              "       4.52838000e-01, 4.68663834e-01, 4.84978892e-01, 5.01795871e-01,\n",
              "       5.19127712e-01, 5.36987601e-01, 5.55388969e-01, 5.74345499e-01,\n",
              "       5.93871122e-01, 6.13980020e-01, 6.34686630e-01, 6.56005642e-01,\n",
              "       6.77952000e-01, 7.00540906e-01, 7.23787818e-01, 7.47708451e-01,\n",
              "       7.72318780e-01, 7.97635037e-01, 8.23673714e-01, 8.50451562e-01,\n",
              "       8.77985590e-01, 9.06293068e-01, 9.35391524e-01, 9.65298743e-01,\n",
              "       9.96032770e-01, 1.02761191e+00, 1.06005471e+00, 1.09337999e+00,\n",
              "       1.12760681e+00, 1.16275449e+00, 1.19884260e+00, 1.23589095e+00,\n",
              "       1.27391962e+00, 1.31294889e+00, 1.35299933e+00, 1.39409173e+00,\n",
              "       1.43624710e+00, 1.47948670e+00, 1.52383203e+00, 1.56930479e+00,\n",
              "       1.61592692e+00, 1.66372059e+00, 1.71270814e+00, 1.76291218e+00,\n",
              "       1.81435547e+00, 1.86706101e+00, 1.92105198e+00, 1.97635174e+00,\n",
              "       2.03298386e+00, 2.09097205e+00, 2.15034024e+00, 2.21111249e+00,\n",
              "       2.27331303e+00, 2.33696625e+00, 2.40209667e+00, 2.46872896e+00,\n",
              "       2.53688791e+00, 2.60659846e+00, 2.67788562e+00, 2.75077454e+00,\n",
              "       2.82529046e+00, 2.90145871e+00, 2.97930469e+00, 3.05885387e+00,\n",
              "       3.14013179e+00, 3.22316405e+00, 3.30797626e+00, 3.39459409e+00,\n",
              "       3.48304321e+00, 3.57334931e+00, 3.66553807e+00, 3.75963517e+00,\n",
              "       3.85566625e+00, 3.95365692e+00, 4.05363274e+00, 4.15561921e+00,\n",
              "       4.25964175e+00, 4.36572572e+00, 4.47389634e+00, 4.58417876e+00,\n",
              "       4.69659797e+00, 4.81117885e+00, 4.92794610e+00, 5.04692430e+00,\n",
              "       5.16813779e+00, 5.29161077e+00, 5.41736720e+00, 5.54543084e+00,\n",
              "       5.67582519e+00, 5.80857353e+00, 5.94369884e+00, 6.08122385e+00,\n",
              "       6.22117098e+00, 6.36356234e+00, 6.50841971e+00, 6.65576454e+00,\n",
              "       6.80561793e+00, 6.95800059e+00, 7.11293286e+00, 7.27043467e+00,\n",
              "       7.43052552e+00, 7.59322451e+00, 7.75855027e+00, 7.92652097e+00,\n",
              "       8.09715430e+00, 8.27046747e+00, 8.44647715e+00, 8.62519952e+00,\n",
              "       8.80665019e+00, 8.99084425e+00, 9.17779619e+00, 9.36751993e+00,\n",
              "       9.56002878e+00, 9.75533544e+00, 9.95345200e+00, 1.01543899e+01,\n",
              "       1.03581598e+01, 1.05647720e+01, 1.07742358e+01, 1.09865599e+01,\n",
              "       1.12017524e+01, 1.14198205e+01, 1.16407707e+01, 1.18646089e+01,\n",
              "       1.20913401e+01, 1.23209686e+01, 1.25534978e+01, 1.27889303e+01,\n",
              "       1.30272681e+01, 1.32685122e+01, 1.35126628e+01, 1.37597192e+01,\n",
              "       1.40096801e+01, 1.42625429e+01, 1.45183046e+01, 1.47769610e+01,\n",
              "       1.50385071e+01, 1.53029372e+01, 1.55702443e+01, 1.58404209e+01,\n",
              "       1.61134582e+01, 1.63893469e+01, 1.66680765e+01, 1.69496355e+01,\n",
              "       1.72340117e+01, 1.75211919e+01, 1.78111617e+01, 1.81039062e+01,\n",
              "       1.83994091e+01, 1.86976535e+01, 1.89986213e+01, 1.93022937e+01,\n",
              "       1.96086506e+01, 1.99176713e+01, 2.02293339e+01, 2.05436156e+01,\n",
              "       2.08604928e+01, 2.11799409e+01, 2.15019340e+01, 2.18264459e+01,\n",
              "       2.21534488e+01, 2.24829145e+01, 2.28148136e+01, 2.31491158e+01,\n",
              "       2.34857900e+01, 2.38248039e+01, 2.41661248e+01, 2.45097186e+01,\n",
              "       2.48555506e+01, 2.52035852e+01, 2.55537858e+01, 2.59061152e+01,\n",
              "       2.62605350e+01, 2.66170063e+01, 2.69754892e+01, 2.73359431e+01,\n",
              "       2.76983264e+01, 2.80625970e+01, 2.84287119e+01, 2.87966272e+01,\n",
              "       2.91662986e+01, 2.95376808e+01, 2.99107278e+01, 3.02853932e+01,\n",
              "       3.06616296e+01, 3.10393890e+01, 3.14186231e+01, 3.17992824e+01,\n",
              "       3.21813174e+01, 3.25646777e+01, 3.29493122e+01, 3.33351697e+01,\n",
              "       3.37221981e+01, 3.41103451e+01, 3.44995575e+01, 3.48897822e+01,\n",
              "       3.52809652e+01, 3.56730523e+01, 3.60659890e+01, 3.64597202e+01,\n",
              "       3.68541906e+01, 3.72493446e+01, 3.76451264e+01, 3.80414796e+01,\n",
              "       3.84383478e+01, 3.88356744e+01, 3.92334025e+01, 3.96314751e+01,\n",
              "       4.00298350e+01, 4.04284249e+01, 4.08271873e+01, 4.12260648e+01,\n",
              "       4.16249999e+01, 4.20239350e+01, 4.24228125e+01, 4.28215750e+01,\n",
              "       4.32201648e+01, 4.36185247e+01, 4.40165973e+01, 4.44143254e+01,\n",
              "       4.48116520e+01, 4.52085203e+01, 4.56048735e+01, 4.60006552e+01,\n",
              "       4.63958092e+01, 4.67902797e+01, 4.71840109e+01, 4.75769475e+01,\n",
              "       4.79690347e+01, 4.83602177e+01, 4.87504423e+01, 4.91396548e+01,\n",
              "       4.95278017e+01, 4.99148301e+01, 5.03006876e+01, 5.06853222e+01,\n",
              "       5.10686824e+01, 5.14507174e+01, 5.18313768e+01, 5.22106108e+01,\n",
              "       5.25883703e+01, 5.29646067e+01, 5.33392720e+01, 5.37123191e+01,\n",
              "       5.40837012e+01, 5.44533726e+01, 5.48212880e+01, 5.51874028e+01,\n",
              "       5.55516734e+01, 5.59140568e+01, 5.62745106e+01, 5.66329935e+01,\n",
              "       5.69894648e+01, 5.73438847e+01, 5.76962140e+01, 5.80464147e+01,\n",
              "       5.83944492e+01, 5.87402813e+01, 5.90838751e+01, 5.94251959e+01,\n",
              "       5.97642099e+01, 6.01008840e+01, 6.04351862e+01, 6.07670853e+01,\n",
              "       6.10965510e+01, 6.14235540e+01, 6.17480658e+01, 6.20700590e+01,\n",
              "       6.23895070e+01, 6.27063842e+01, 6.30206660e+01, 6.33323286e+01,\n",
              "       6.36413493e+01, 6.39477062e+01, 6.42513785e+01, 6.45523464e+01,\n",
              "       6.48505907e+01, 6.51460937e+01, 6.54388381e+01, 6.57288080e+01,\n",
              "       6.60159881e+01, 6.63003643e+01, 6.65819234e+01, 6.68606529e+01,\n",
              "       6.71365416e+01, 6.74095790e+01, 6.76797555e+01, 6.79470627e+01,\n",
              "       6.82114927e+01, 6.84730389e+01, 6.87316953e+01, 6.89874569e+01,\n",
              "       6.92403198e+01, 6.94902806e+01, 6.97373370e+01, 6.99814876e+01,\n",
              "       7.02227317e+01, 7.04610695e+01, 7.06965021e+01, 7.09290312e+01,\n",
              "       7.11586597e+01, 7.13853909e+01, 7.16092291e+01, 7.18301794e+01,\n",
              "       7.20482475e+01, 7.22634399e+01, 7.24757640e+01, 7.26852278e+01,\n",
              "       7.28918400e+01, 7.30956100e+01, 7.32965478e+01, 7.34946644e+01,\n",
              "       7.36899711e+01, 7.38824799e+01, 7.40722037e+01, 7.42591556e+01,\n",
              "       7.44433496e+01, 7.46248003e+01, 7.48035227e+01, 7.49795324e+01,\n",
              "       7.51528455e+01, 7.53234789e+01, 7.54914496e+01, 7.56567753e+01,\n",
              "       7.58194743e+01, 7.59795652e+01, 7.61370670e+01, 7.62919992e+01,\n",
              "       7.64443819e+01, 7.65942353e+01, 7.67415801e+01, 7.68864375e+01,\n",
              "       7.70288289e+01, 7.71687760e+01, 7.73063010e+01, 7.74414263e+01,\n",
              "       7.75741746e+01, 7.77045690e+01, 7.78326326e+01, 7.79583891e+01,\n",
              "       7.80818621e+01, 7.82030755e+01, 7.83220537e+01, 7.84388210e+01,\n",
              "       7.85534019e+01, 7.86658211e+01, 7.87761035e+01, 7.88842741e+01,\n",
              "       7.89903581e+01, 7.90943806e+01, 7.91963671e+01, 7.92963429e+01,\n",
              "       7.93943336e+01, 7.94903647e+01, 7.95844618e+01, 7.96766505e+01,\n",
              "       7.97669566e+01, 7.98554058e+01, 7.99420236e+01, 8.00268358e+01,\n",
              "       8.01098680e+01, 8.01911460e+01, 8.02706952e+01, 8.03485411e+01,\n",
              "       8.04247094e+01, 8.04992253e+01, 8.05721142e+01, 8.06434014e+01,\n",
              "       8.07131119e+01, 8.07812709e+01, 8.08479032e+01, 8.09130336e+01,\n",
              "       8.09766868e+01, 8.10388873e+01, 8.10996596e+01, 8.11590278e+01,\n",
              "       8.12170160e+01, 8.12736481e+01, 8.13289479e+01, 8.13829388e+01,\n",
              "       8.14356444e+01, 8.14870877e+01, 8.15372917e+01, 8.15862793e+01,\n",
              "       8.16340729e+01, 8.16806951e+01, 8.17261678e+01, 8.17705131e+01,\n",
              "       8.18137527e+01, 8.18559081e+01, 8.18970005e+01, 8.19370509e+01,\n",
              "       8.19760802e+01, 8.20141089e+01, 8.20511572e+01, 8.20872454e+01,\n",
              "       8.21223930e+01, 8.21566199e+01, 8.21899451e+01, 8.22223879e+01,\n",
              "       8.22539671e+01, 8.22847011e+01, 8.23146083e+01, 8.23437068e+01,\n",
              "       8.23720143e+01, 8.23995483e+01, 8.24263261e+01, 8.24523648e+01,\n",
              "       8.24776811e+01, 8.25022914e+01, 8.25262120e+01, 8.25494589e+01,\n",
              "       8.25720478e+01, 8.25939942e+01, 8.26153132e+01, 8.26360198e+01,\n",
              "       8.26561287e+01, 8.26756543e+01, 8.26946109e+01, 8.27130122e+01,\n",
              "       8.27308721e+01, 8.27482040e+01, 8.27650210e+01, 8.27813360e+01,\n",
              "       8.27971618e+01, 8.28125109e+01, 8.28273954e+01, 8.28418273e+01,\n",
              "       8.28558184e+01, 8.28693802e+01, 8.28825239e+01, 8.28952607e+01,\n",
              "       8.29076012e+01, 8.29195562e+01, 8.29311359e+01, 8.29423507e+01,\n",
              "       8.29532103e+01, 8.29637245e+01, 8.29739029e+01, 8.29837547e+01,\n",
              "       8.29932891e+01, 8.30025149e+01, 8.30114408e+01, 8.30200754e+01,\n",
              "       8.30284270e+01, 8.30365036e+01, 8.30443132e+01, 8.30518635e+01,\n",
              "       8.30591620e+01, 8.30662163e+01, 8.30730334e+01, 8.30796203e+01,\n",
              "       8.30859840e+01, 8.30921311e+01, 8.30980681e+01, 8.31038013e+01,\n",
              "       8.31093371e+01, 8.31146813e+01, 8.31198399e+01, 8.31248186e+01,\n",
              "       8.31296230e+01, 8.31342586e+01, 8.31387305e+01, 8.31430440e+01,\n",
              "       8.31472041e+01, 8.31512156e+01, 8.31550833e+01, 8.31588119e+01,\n",
              "       8.31624057e+01, 8.31658692e+01, 8.31692067e+01, 8.31724222e+01,\n",
              "       8.31755197e+01, 8.31785032e+01, 8.31813764e+01, 8.31841430e+01,\n",
              "       8.31868066e+01, 8.31893707e+01, 8.31918386e+01, 8.31942135e+01,\n",
              "       8.31964987e+01, 8.31986972e+01, 8.32008120e+01, 8.32028460e+01,\n",
              "       8.32048020e+01, 8.32066827e+01, 8.32084908e+01, 8.32102288e+01,\n",
              "       8.32118992e+01, 8.32135044e+01, 8.32150466e+01, 8.32165283e+01,\n",
              "       8.32179515e+01, 8.32193183e+01, 8.32206308e+01, 8.32218910e+01,\n",
              "       8.32231007e+01, 8.32242619e+01, 8.32253763e+01, 8.32264457e+01,\n",
              "       8.32274717e+01, 8.32284559e+01, 8.32293999e+01, 8.32303053e+01,\n",
              "       8.32311734e+01, 8.32320057e+01, 8.32328035e+01, 8.32335682e+01,\n",
              "       8.32343010e+01, 8.32350032e+01, 8.32356760e+01, 8.32363204e+01,\n",
              "       8.32369376e+01, 8.32375287e+01, 8.32380946e+01, 8.32386364e+01,\n",
              "       8.32391551e+01, 8.32396515e+01, 8.32401265e+01, 8.32405810e+01,\n",
              "       8.32410158e+01, 8.32414317e+01, 8.32418294e+01, 8.32422098e+01,\n",
              "       8.32425735e+01, 8.32429211e+01, 8.32432534e+01, 8.32435710e+01,\n",
              "       8.32438745e+01, 8.32441645e+01, 8.32444415e+01, 8.32447060e+01,\n",
              "       8.32449587e+01, 8.32452000e+01, 8.32454303e+01, 8.32456502e+01,\n",
              "       8.32458601e+01, 8.32460604e+01, 8.32462515e+01, 8.32464338e+01,\n",
              "       8.32466077e+01, 8.32467736e+01, 8.32469318e+01, 8.32470827e+01,\n",
              "       8.32472265e+01, 8.32473636e+01, 8.32474942e+01, 8.32476187e+01,\n",
              "       8.32477373e+01, 8.32478504e+01, 8.32479580e+01, 8.32480605e+01,\n",
              "       8.32481582e+01, 8.32482511e+01, 8.32483396e+01, 8.32484239e+01,\n",
              "       8.32485040e+01, 8.32485803e+01, 8.32486529e+01, 8.32487219e+01,\n",
              "       8.32487876e+01, 8.32488501e+01, 8.32489095e+01, 8.32489659e+01,\n",
              "       8.32490196e+01, 8.32490706e+01, 8.32491191e+01, 8.32491652e+01,\n",
              "       8.32492089e+01, 8.32492505e+01, 8.32492900e+01, 8.32493275e+01,\n",
              "       8.32493631e+01, 8.32493969e+01, 8.32494290e+01, 8.32494595e+01,\n",
              "       8.32494884e+01, 8.32495158e+01, 8.32495418e+01, 8.32495665e+01,\n",
              "       8.32495899e+01, 8.32496121e+01, 8.32496332e+01, 8.32496531e+01,\n",
              "       8.32496720e+01, 8.32496900e+01, 8.32497069e+01, 8.32497230e+01,\n",
              "       8.32497383e+01, 8.32497527e+01, 8.32497664e+01, 8.32497793e+01,\n",
              "       8.32497916e+01, 8.32498032e+01, 8.32498142e+01, 8.32498246e+01,\n",
              "       8.32498344e+01, 8.32498437e+01, 8.32498525e+01, 8.32498609e+01,\n",
              "       8.32498687e+01, 8.32498762e+01, 8.32498832e+01, 8.32498899e+01,\n",
              "       8.32498962e+01, 8.32499021e+01, 8.32499077e+01, 8.32499130e+01,\n",
              "       8.32499180e+01, 8.32499228e+01, 8.32499272e+01, 8.32499315e+01,\n",
              "       8.32499355e+01, 8.32499392e+01, 8.32499428e+01, 8.32499461e+01,\n",
              "       8.32499493e+01, 8.32499523e+01, 8.32499551e+01, 8.32499577e+01,\n",
              "       8.32499602e+01, 8.32499626e+01, 8.32499648e+01, 8.32499669e+01,\n",
              "       8.32499689e+01, 8.32499707e+01, 8.32499725e+01, 8.32499741e+01,\n",
              "       8.32499757e+01, 8.32499772e+01, 8.32499785e+01, 8.32499798e+01,\n",
              "       8.32499811e+01, 8.32499822e+01, 8.32499833e+01, 8.32499843e+01,\n",
              "       8.32499853e+01, 8.32499862e+01, 8.32499870e+01, 8.32499878e+01,\n",
              "       8.32499886e+01, 8.32499893e+01, 8.32499899e+01, 8.32499905e+01,\n",
              "       8.32499911e+01, 8.32499917e+01, 8.32499922e+01, 8.32499927e+01,\n",
              "       8.32499931e+01, 8.32499936e+01, 8.32499940e+01, 8.32499943e+01,\n",
              "       8.32499947e+01, 8.32499950e+01, 8.32499953e+01, 8.32499956e+01,\n",
              "       8.32499959e+01, 8.32499962e+01, 8.32499964e+01, 8.32499966e+01,\n",
              "       8.32499968e+01, 8.32499970e+01, 8.32499972e+01, 8.32499974e+01,\n",
              "       8.32499976e+01, 8.32499977e+01, 8.32499979e+01, 8.32499980e+01,\n",
              "       8.32499981e+01, 8.32499982e+01, 8.32499984e+01, 8.32499985e+01,\n",
              "       8.32499986e+01, 8.32499986e+01, 8.32499987e+01, 8.32499988e+01,\n",
              "       8.32499989e+01, 8.32499990e+01, 8.32499990e+01, 8.32499991e+01,\n",
              "       8.32499991e+01, 8.32499992e+01, 8.32499992e+01, 8.32499993e+01,\n",
              "       8.32499993e+01, 8.32499994e+01, 8.32499994e+01, 8.32499994e+01,\n",
              "       8.32499995e+01, 8.32499995e+01, 8.32499995e+01, 8.32499996e+01,\n",
              "       8.32499996e+01, 8.32499996e+01, 8.32499996e+01, 8.32499996e+01,\n",
              "       8.32499997e+01, 8.32499997e+01, 8.32499997e+01, 8.32499997e+01,\n",
              "       8.32499997e+01, 8.32499997e+01, 8.32499998e+01, 8.32499998e+01,\n",
              "       8.32499998e+01, 8.32499998e+01, 8.32499998e+01, 8.32499998e+01,\n",
              "       8.32499998e+01, 8.32499998e+01, 8.32499998e+01, 8.32499998e+01])"
            ]
          },
          "metadata": {},
          "execution_count": 45
        }
      ]
    },
    {
      "cell_type": "code",
      "metadata": {
        "id": "TIR6Tm2NYSlH",
        "colab": {
          "base_uri": "https://localhost:8080/",
          "height": 430
        },
        "outputId": "0e58ec65-c33e-430d-b686-22d4ecb4d5f4"
      },
      "source": [
        "plt.plot(x,cdf,'.');"
      ],
      "execution_count": 33,
      "outputs": [
        {
          "output_type": "display_data",
          "data": {
            "text/plain": [
              "<Figure size 640x480 with 1 Axes>"
            ],
            "image/png": "[encoded data removed]"
          },
          "metadata": {}
        }
      ]
    },
    {
      "cell_type": "code",
      "metadata": {
        "id": "dxKQae6QEbQF"
      },
      "source": [
        "# d_cdf = cdf[1:] - cdf[0:-1] #Demo to show that the derivative of the cdf gives you back the pdf\n",
        "# plt.plot(x[1:],d_cdf,'.');  #Not required for sampling"
      ],
      "execution_count": 34,
      "outputs": []
    },
    {
      "cell_type": "code",
      "metadata": {
        "id": "sikTuIG3c_y7",
        "colab": {
          "base_uri": "https://localhost:8080/",
          "height": 430
        },
        "outputId": "536372aa-1626-43f9-9893-7256889d0774"
      },
      "source": [
        "plt.plot(cdf,x,'.');"
      ],
      "execution_count": 35,
      "outputs": [
        {
          "output_type": "display_data",
          "data": {
            "text/plain": [
              "<Figure size 640x480 with 1 Axes>"
            ],
            "image/png": "[encoded data removed]"
          },
          "metadata": {}
        }
      ]
    },
    {
      "cell_type": "code",
      "metadata": {
        "id": "HsmcFWw26gZk"
      },
      "source": [
        "\n",
        "def find_nearest(array, value):\n",
        "\n",
        "  idx = np.argmin(np.abs(array - value))\n",
        "\n",
        "  return idx"
      ],
      "execution_count": 36,
      "outputs": []
    },
    {
      "cell_type": "code",
      "source": [
        "\n",
        "z = np.array([11.2,32,63,4.3,5.67])"
      ],
      "metadata": {
        "id": "vSPFJ4Vyojca"
      },
      "execution_count": 37,
      "outputs": []
    },
    {
      "cell_type": "code",
      "source": [
        "#What the function above does is that it will subtract, in this example, 22.1 from each of the values in the array and have an abs value. Since we want to find nearest, it'll give an index location to what number in the array that is.\n",
        "#Since python indices start from 0, and 32 is closest to 22.1, the nearest is located at the \"1\" spot.\n",
        "find_nearest(z, 22.1)"
      ],
      "metadata": {
        "colab": {
          "base_uri": "https://localhost:8080/"
        },
        "id": "XmdnUaeUooQG",
        "outputId": "feeb856d-d720-4d72-c068-e11e6dd0bb89"
      },
      "execution_count": 40,
      "outputs": [
        {
          "output_type": "execute_result",
          "data": {
            "text/plain": [
              "1"
            ]
          },
          "metadata": {},
          "execution_count": 40
        }
      ]
    },
    {
      "cell_type": "code",
      "source": [
        "z[1]"
      ],
      "metadata": {
        "colab": {
          "base_uri": "https://localhost:8080/"
        },
        "id": "fwqtysOyo8Gx",
        "outputId": "ee1fc3a8-fb99-494a-c670-96ddb22eddf6"
      },
      "execution_count": 41,
      "outputs": [
        {
          "output_type": "execute_result",
          "data": {
            "text/plain": [
              "32.0"
            ]
          },
          "metadata": {},
          "execution_count": 41
        }
      ]
    },
    {
      "cell_type": "code",
      "metadata": {
        "id": "u-_tbmzBcrby",
        "colab": {
          "base_uri": "https://localhost:8080/"
        },
        "outputId": "9450f482-8a23-49da-8b35-0d45d9cfdda0"
      },
      "source": [
        "#the nearest value to 0.1 in the cdf array is the 247th value\n",
        "find_nearest(cdf, 0.1)"
      ],
      "execution_count": 43,
      "outputs": [
        {
          "output_type": "execute_result",
          "data": {
            "text/plain": [
              "247"
            ]
          },
          "metadata": {},
          "execution_count": 43
        }
      ]
    },
    {
      "cell_type": "code",
      "source": [
        "cdf[247]"
      ],
      "metadata": {
        "colab": {
          "base_uri": "https://localhost:8080/"
        },
        "id": "Fv6WFPMngDNL",
        "outputId": "77cfc43e-1b24-49ee-f31f-5d8b3626f485"
      },
      "execution_count": 46,
      "outputs": [
        {
          "output_type": "execute_result",
          "data": {
            "text/plain": [
              "0.09878424758063288"
            ]
          },
          "metadata": {},
          "execution_count": 46
        }
      ]
    },
    {
      "cell_type": "code",
      "metadata": {
        "id": "Zf6KSUgmEt26",
        "colab": {
          "base_uri": "https://localhost:8080/"
        },
        "outputId": "b2ab40cd-89e7-4e50-ff01-fdff43ac214f"
      },
      "source": [
        "x[393]"
      ],
      "execution_count": 48,
      "outputs": [
        {
          "output_type": "execute_result",
          "data": {
            "text/plain": [
              "-1.2792792792792795"
            ]
          },
          "metadata": {},
          "execution_count": 48
        }
      ]
    },
    {
      "cell_type": "code",
      "metadata": {
        "id": "M0O7iLuj5Qu5"
      },
      "source": [
        "xr = np.random.random((10000,))"
      ],
      "execution_count": 49,
      "outputs": []
    },
    {
      "cell_type": "code",
      "source": [
        "r = np.random.random()"
      ],
      "metadata": {
        "id": "gv6ZK19lpon9"
      },
      "execution_count": 50,
      "outputs": []
    },
    {
      "cell_type": "code",
      "source": [
        "r"
      ],
      "metadata": {
        "colab": {
          "base_uri": "https://localhost:8080/"
        },
        "id": "HMWCQfsmpsvF",
        "outputId": "c5875869-9f1b-427f-ab56-6c405f41364d"
      },
      "execution_count": 51,
      "outputs": [
        {
          "output_type": "execute_result",
          "data": {
            "text/plain": [
              "0.5921940841943614"
            ]
          },
          "metadata": {},
          "execution_count": 51
        }
      ]
    },
    {
      "cell_type": "code",
      "source": [
        "x[find_nearest(cdf, r)]"
      ],
      "metadata": {
        "colab": {
          "base_uri": "https://localhost:8080/"
        },
        "id": "DdX5fnWBpuRN",
        "outputId": "2bb7cfce-b808-4756-fa79-4cab1bccf5ef"
      },
      "execution_count": 57,
      "outputs": [
        {
          "output_type": "execute_result",
          "data": {
            "text/plain": [
              "-2.4444444444444446"
            ]
          },
          "metadata": {},
          "execution_count": 57
        }
      ]
    },
    {
      "cell_type": "code",
      "metadata": {
        "id": "AxX76gZp6gVV"
      },
      "source": [
        "#filling an array with 0's intiially is a good idea for placeholder values.\n",
        "#an array is created with same length as xr but they are all initially filled with 0's\n",
        "#final results is that there is an array w where each element is selected from x based on which value in cdf is closest to corresponding value in xr.\n",
        "w = np.zeros(xr.shape[0])\n",
        "\n",
        "for i in range(xr.shape[0]):\n",
        "\n",
        "  w[i] = x[find_nearest(cdf, xr[i])]"
      ],
      "execution_count": 59,
      "outputs": []
    },
    {
      "cell_type": "code",
      "metadata": {
        "id": "0dBd_HybERUD",
        "colab": {
          "base_uri": "https://localhost:8080/"
        },
        "outputId": "461ace08-d469-4c3d-9c5d-24e690dd3355"
      },
      "source": [
        "w.shape"
      ],
      "execution_count": 62,
      "outputs": [
        {
          "output_type": "execute_result",
          "data": {
            "text/plain": [
              "(10000,)"
            ]
          },
          "metadata": {},
          "execution_count": 62
        }
      ]
    },
    {
      "cell_type": "code",
      "metadata": {
        "id": "t4YdgMnK8j6D",
        "colab": {
          "base_uri": "https://localhost:8080/",
          "height": 430
        },
        "outputId": "81cebf0c-bbfd-4297-c117-eea55a6df11d"
      },
      "source": [
        "plt.hist(w,50);"
      ],
      "execution_count": 67,
      "outputs": [
        {
          "output_type": "display_data",
          "data": {
            "text/plain": [
              "<Figure size 640x480 with 1 Axes>"
            ],
            "image/png": "[encoded data removed]"
          },
          "metadata": {}
        }
      ]
    },
    {
      "cell_type": "code",
      "source": [
        "num_bins = 50\n",
        "n,bins,patches = plt.hist(w, num_bins, density=1)\n",
        "y = ((1 / (np.sqrt(2 * np.pi) * sigma)) * np.exp(-0.5 * (1 / sigma * (bins - mu))**2))\n",
        "plt.plot(bins,y)"
      ],
      "metadata": {
        "id": "T2tZnucPEtG4",
        "colab": {
          "base_uri": "https://localhost:8080/",
          "height": 447
        },
        "outputId": "5a212f22-0bfd-454c-fd62-0c25db8c2211"
      },
      "execution_count": 68,
      "outputs": [
        {
          "output_type": "execute_result",
          "data": {
            "text/plain": [
              "[<matplotlib.lines.Line2D at 0x7e3194752920>]"
            ]
          },
          "metadata": {},
          "execution_count": 68
        },
        {
          "output_type": "display_data",
          "data": {
            "text/plain": [
              "<Figure size 640x480 with 1 Axes>"
            ],
            "image/png": "[encoded data removed]"
          },
          "metadata": {}
        }
      ]
    },
    {
      "cell_type": "code",
      "source": [],
      "metadata": {
        "id": "TvG2_-k-8U1M"
      },
      "execution_count": null,
      "outputs": []
    },
    {
      "cell_type": "code",
      "source": [],
      "metadata": {
        "id": "gT-OjSFcm4Uc"
      },
      "execution_count": null,
      "outputs": []
    },
    {
      "cell_type": "markdown",
      "source": [
        "# Homework"
      ],
      "metadata": {
        "id": "f6lSTMepm8qU"
      }
    },
    {
      "cell_type": "markdown",
      "source": [
        "# Birthday Paradox"
      ],
      "metadata": {
        "id": "iE625nJ2fVAa"
      }
    },
    {
      "cell_type": "code",
      "source": [
        "import random\n",
        "\n",
        "def simulate_birthday_paradox(people, simulations):\n",
        "    matches = 0  #keeps track of how many simulations results in at least two people sharing a birthday.\n",
        "\n",
        "#randint randomly selects any day (1 to 365) and does that 'people' times to assign everybody a birthday value.\n",
        "#If ther are matching birthdays, the counter will go up +1\n",
        "    for i in range(simulations):\n",
        "        birthdays = [random.randint(1, 365) for _ in range(people)]\n",
        "        if len(birthdays) != len(set(birthdays)):\n",
        "            matches += 1\n",
        "\n",
        "#this will output how many matches there were per simulation\n",
        "    probability = matches / simulations\n",
        "    return probability\n",
        "\n",
        "# Number of people in the room\n",
        "people = 100\n",
        "\n",
        "# Number of simulations\n",
        "simulations = 10000\n",
        "\n",
        "# Calculate the probability\n",
        "probability = simulate_birthday_paradox(people, simulations)\n",
        "probability\n"
      ],
      "metadata": {
        "colab": {
          "base_uri": "https://localhost:8080/"
        },
        "id": "uHDNfJ27fTLr",
        "outputId": "b7c74052-8386-454c-b20e-7ed9b65d3f91"
      },
      "execution_count": 85,
      "outputs": [
        {
          "output_type": "execute_result",
          "data": {
            "text/plain": [
              "1.0"
            ]
          },
          "metadata": {},
          "execution_count": 85
        }
      ]
    },
    {
      "cell_type": "code",
      "source": [],
      "metadata": {
        "id": "jJowCSRsnroR"
      },
      "execution_count": null,
      "outputs": []
    },
    {
      "cell_type": "markdown",
      "source": [
        "# Monty Hall"
      ],
      "metadata": {
        "id": "ZOjownaNntLY"
      }
    },
    {
      "cell_type": "code",
      "source": [
        "#This simulation illustrates that your chances of winning a car are much higher, as shown in the 10,000 simulations done, if you switched the door you chose instead of going with the initial one.\n",
        "def simulate_monty_hall_final(simulations):\n",
        "    wins_switching = 0\n",
        "    wins_staying = 0\n",
        "\n",
        "    for _ in range(simulations):\n",
        "        # Randomly assign the car to a door (1, 2, or 3)\n",
        "        car_door = random.randint(1, 3)\n",
        "        # Player makes an initial choice\n",
        "        player_choice = random.randint(1, 3)\n",
        "\n",
        "        # Host opens a door, which is neither the player's choice nor the car door\n",
        "        for host_choice in [1, 2, 3]:\n",
        "            if host_choice != car_door and host_choice != player_choice:\n",
        "                break\n",
        "\n",
        "        # Find the remaining door for the player to switch to\n",
        "        for switch_choice in [1, 2, 3]:\n",
        "            if switch_choice != player_choice and switch_choice != host_choice:\n",
        "                break\n",
        "\n",
        "        # Count the number of wins for staying with the initial choice\n",
        "        if player_choice == car_door:\n",
        "            wins_staying += 1\n",
        "\n",
        "        # Count the number of wins for switching to the other door\n",
        "        if switch_choice == car_door:\n",
        "            wins_switching += 1\n",
        "\n",
        "    # Calculate the probabilities of winning by staying and switching\n",
        "    probability_staying = wins_staying / simulations\n",
        "    probability_switching = wins_switching / simulations\n",
        "\n",
        "    return probability_staying, probability_switching\n",
        "\n",
        "# Running the final version of the simulation\n",
        "final_probability_staying, final_probability_switching = simulate_monty_hall_final(simulations)\n",
        "final_probability_staying, final_probability_switching\n"
      ],
      "metadata": {
        "colab": {
          "base_uri": "https://localhost:8080/"
        },
        "id": "UagigVXQnrwI",
        "outputId": "5514fc1a-6f14-496b-bfbb-5fb0ce3adb71"
      },
      "execution_count": 87,
      "outputs": [
        {
          "output_type": "execute_result",
          "data": {
            "text/plain": [
              "(0.3358, 0.6642)"
            ]
          },
          "metadata": {},
          "execution_count": 87
        }
      ]
    },
    {
      "cell_type": "code",
      "source": [],
      "metadata": {
        "id": "S_zodvhJpkkH"
      },
      "execution_count": null,
      "outputs": []
    },
    {
      "cell_type": "markdown",
      "source": [
        "# Simple Craps"
      ],
      "metadata": {
        "id": "553F2D_eqyh9"
      }
    },
    {
      "cell_type": "code",
      "source": [
        "def simulate_dice_game(simulations):\n",
        "    wins = 0\n",
        "\n",
        "    for _ in range(simulations):\n",
        "        # Roll two six-sided dice\n",
        "        roll = random.randint(1, 6) + random.randint(1, 6)\n",
        "\n",
        "        # Check for immediate win or loss\n",
        "        #if roll is a 7 or 11, the win counter goes up. If the roll counter is a 2,3, or 12, the player loses immediately and continues to next simulation without adding a win\n",
        "        #Also, what I have noticed is that rolling some of the most common numbers and putting it in the elif tab (eg. 6,8) results in a consisently LOWER chance of winning (37%) compared to any other 2 values added to elif roll (40%)\n",
        "        if roll in [7, 11]:\n",
        "            wins += 1\n",
        "            continue\n",
        "        elif roll in [2, 3, 6, 8, 12]:\n",
        "            continue\n",
        "\n",
        "        # Save the initial roll\n",
        "        #If initial roll was not any of thsoe values, we save it here\n",
        "        initial_roll = roll\n",
        "\n",
        "        # Re-roll phase\n",
        "        #starts an indefinite loop of re-rolling\n",
        "        while True:\n",
        "            roll = random.randint(1, 6) + random.randint(1, 6)\n",
        "            if roll == 7:  # Loss condition\n",
        "                break\n",
        "            elif roll == initial_roll:  # Win condition\n",
        "                wins += 1\n",
        "                break\n",
        "\n",
        "    probability_of_winning = wins / simulations\n",
        "    return probability_of_winning\n",
        "\n",
        "# Number of simulations\n",
        "simulations = 10000\n",
        "\n",
        "# Calculate the probability\n",
        "probability_of_winning = simulate_dice_game(simulations)\n",
        "probability_of_winning\n"
      ],
      "metadata": {
        "colab": {
          "base_uri": "https://localhost:8080/"
        },
        "id": "Uez6Ycj5qxmO",
        "outputId": "5feb1cd8-538f-41bf-eaab-809ac7c52045"
      },
      "execution_count": 107,
      "outputs": [
        {
          "output_type": "execute_result",
          "data": {
            "text/plain": [
              "0.3646"
            ]
          },
          "metadata": {},
          "execution_count": 107
        }
      ]
    },
    {
      "cell_type": "markdown",
      "source": [
        "# Collector's Card Paradox\n"
      ],
      "metadata": {
        "id": "8c3x54_kx91f"
      }
    },
    {
      "cell_type": "code",
      "source": [
        "def simulate_card_collectors_problem(n, simulations):\n",
        "    total_card_packs_bought = 0\n",
        "\n",
        "    for _ in range(simulations):\n",
        "        collected_characters = set()\n",
        "        card_packs_bought = 0\n",
        "\n",
        "        # Buy card packs until all characters are collected\n",
        "        while len(collected_characters) < n:\n",
        "            new_card = random.randint(1, n)\n",
        "            collected_characters.add(new_card)\n",
        "            card_packs_bought += 1\n",
        "\n",
        "        total_card_packs_bought += card_packs_bought\n",
        "\n",
        "    # Calculate the average number of card packs needed\n",
        "    average_card_packs_needed = total_card_packs_bought / simulations\n",
        "    return average_card_packs_needed\n",
        "\n",
        "# Number of different characters\n",
        "n = 10\n",
        "\n",
        "# Calculate the expected number of card packs\n",
        "expected_card_packs = simulate_card_collectors_problem(n, simulations)\n",
        "expected_card_packs\n"
      ],
      "metadata": {
        "id": "No2Z-6FRq3n8",
        "colab": {
          "base_uri": "https://localhost:8080/"
        },
        "outputId": "c1493722-cb90-4f29-e0bf-0c47861f909c"
      },
      "execution_count": 109,
      "outputs": [
        {
          "output_type": "execute_result",
          "data": {
            "text/plain": [
              "29.3094"
            ]
          },
          "metadata": {},
          "execution_count": 109
        }
      ]
    },
    {
      "cell_type": "code",
      "source": [],
      "metadata": {
        "id": "AUkmiRElj7kL"
      },
      "execution_count": null,
      "outputs": []
    },
    {
      "cell_type": "code",
      "source": [
        "import random\n",
        "\n",
        "def simulate_sock_drawer_problem(n, simulations):\n",
        "    total_draws = 0\n",
        "\n",
        "    for _ in range(simulations):\n",
        "        socks = {}\n",
        "        draws = 0\n",
        "\n",
        "        while True:\n",
        "            # Randomly draw a sock\n",
        "            sock_color = random.randint(1, n)\n",
        "            draws += 1\n",
        "\n",
        "            # Update the count for this color\n",
        "            if sock_color in socks:\n",
        "                socks[sock_color] += 1\n",
        "            else:\n",
        "                socks[sock_color] = 1\n",
        "\n",
        "            # Check for a pair\n",
        "            if socks[sock_color] == 2:\n",
        "                break\n",
        "\n",
        "        total_draws += draws\n",
        "\n",
        "    # Calculate the average number of draws needed\n",
        "    average_draws_needed = total_draws / simulations\n",
        "    return average_draws_needed\n",
        "\n",
        "# Number of pairs of socks\n",
        "n = 10\n",
        "\n",
        "# Number of simulations\n",
        "simulations = 10000\n",
        "\n",
        "# Calculate the expected number of draws\n",
        "expected_draws = simulate_sock_drawer_problem(n, simulations)\n",
        "expected_draws\n"
      ],
      "metadata": {
        "colab": {
          "base_uri": "https://localhost:8080/"
        },
        "id": "aKEfCochj7qD",
        "outputId": "7772cf39-8fc2-41f6-ccd2-2dc2d853992a"
      },
      "execution_count": null,
      "outputs": [
        {
          "output_type": "execute_result",
          "data": {
            "text/plain": [
              "4.6864"
            ]
          },
          "metadata": {},
          "execution_count": 4
        }
      ]
    }
  ]
}